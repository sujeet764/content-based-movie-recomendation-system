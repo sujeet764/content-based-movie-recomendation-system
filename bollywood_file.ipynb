{
 "cells": [
  {
   "cell_type": "code",
   "execution_count": 8,
   "metadata": {},
   "outputs": [],
   "source": [
    "import pandas as pd\n",
    "import numpy as np\n",
    "from sklearn.feature_extraction.text import TfidfVectorizer\n",
    "from sklearn.metrics .pairwise import sigmoid_kernel\n",
    "import warnings\n",
    "warnings.simplefilter('ignore')\n",
    "\n",
    "movies = pd.read_csv(\"bollywood_full_1950-2019.csv\")\n",
    "\n",
    "movies_df= movies[{'original_title','story'}]\n",
    "movies_df.drop_duplicates(subset='original_title',inplace=True)\n",
    "movies_df.original_title = movies_df.original_title.str.lower()\n",
    "\n",
    "movies_df['story'] = movies_df['story'].fillna('')\n",
    "\n",
    "tfidf = TfidfVectorizer(stop_words='english')\n",
    "\n",
    "tfidf_matrix = tfidf.fit_transform(movies_df['story'])\n",
    "\n",
    "tfidf_matrix.shape\n",
    "\n",
    "sig = sigmoid_kernel(tfidf_matrix,tfidf_matrix)\n",
    "\n",
    "indices = pd.Series(movies_df.index, index = movies_df['original_title']).drop_duplicates()"
   ]
  },
  {
   "cell_type": "code",
   "execution_count": 9,
   "metadata": {},
   "outputs": [],
   "source": [
    "def get_rec(title, sig=sig):\n",
    "    try:\n",
    "        title = title.lower()\n",
    "        idx = indices[title]\n",
    "        sim_score = list(enumerate(sig[idx]))\n",
    "        sim_score = sorted(sim_score, key =lambda x:x[1],reverse=True)\n",
    "        \n",
    "        sim_score = sim_score[1:11]\n",
    "        movie_indices = [i[0] for i in sim_score]\n",
    "        return movies_df['original_title'].iloc[movie_indices]\n",
    "    except:\n",
    "        return \"Movie Not available\""
   ]
  },
  {
   "cell_type": "code",
   "execution_count": 10,
   "metadata": {},
   "outputs": [
    {
     "data": {
      "text/plain": [
       "3694             jeevan mrityu\n",
       "298     khel toh ab shuru hoga\n",
       "2213          zakhmo ka hisaab\n",
       "746                 united six\n",
       "2915                   ashanti\n",
       "4114                     daaka\n",
       "3822        sadhu aur shaitaan\n",
       "3190           dil se mile dil\n",
       "3498               gehri chaal\n",
       "2115             sangdil sanam\n",
       "Name: original_title, dtype: object"
      ]
     },
     "execution_count": 10,
     "metadata": {},
     "output_type": "execute_result"
    }
   ],
   "source": [
    "get_rec(\"raaz\")"
   ]
  },
  {
   "cell_type": "code",
   "execution_count": 18,
   "metadata": {},
   "outputs": [],
   "source": [
    "import pickle\n",
    "\n",
    "with open('sigmoid_kernel.pickle','wb') as f:\n",
    "    pickle.dump(sig,f)\n",
    "\n",
    "with open('indices.pickle','wb') as f:\n",
    "    pickle.dump(indices,f)\n",
    "\n",
    "with open('movie_title.pickle','wb') as f:\n",
    "    pickle.dump(movies_df,f)"
   ]
  }
 ],
 "metadata": {
  "kernelspec": {
   "display_name": "Python 3",
   "language": "python",
   "name": "python3"
  },
  "language_info": {
   "codemirror_mode": {
    "name": "ipython",
    "version": 3
   },
   "file_extension": ".py",
   "mimetype": "text/x-python",
   "name": "python",
   "nbconvert_exporter": "python",
   "pygments_lexer": "ipython3",
   "version": "3.7.4"
  }
 },
 "nbformat": 4,
 "nbformat_minor": 2
}
